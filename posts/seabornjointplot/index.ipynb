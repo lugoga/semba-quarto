{
  "cells": [
    {
      "cell_type": "raw",
      "metadata": {},
      "source": [
        "---\n",
        "title: \"plotting in Python with Seaborn: Joint plot\"\n",
        "author: \n",
        "  - name: Masumbuko Semba\n",
        "    url: https://semba.netlify.app\n",
        "    orcid: 0000-0002-5002-9747\n",
        "    affiliation: Nelson Mandela African Institution of Science and Technology\n",
        "    affiliation-url: https://semba.netlify.app/ \n",
        "date: \"2023-02-22\"\n",
        "categories: [Analysis, Visualization, Python]\n",
        "# image: \"family.jpg\"\n",
        "draft: false # setting this to `true` will prevent your post from appearing on your listing page until you're ready!\n",
        "bibliography: ../blog.bib\n",
        "execute: \n",
        "  warning: false\n",
        "fig-width: 7\n",
        "fig-height: 5\n",
        "---"
      ],
      "id": "ab09335a"
    },
    {
      "cell_type": "markdown",
      "metadata": {},
      "source": [
        "## Introduction\n",
        "\n",
        "In [part I](www.ims.org.tz) of this series, we were introduced on the power visualization and dove into distripubtion plot. In this post we are going focus on jointplot. `jointplot` is used to plot the histogram distribution of two columns, one on the `x-axis` and the other on the `y-axis`. A scatter plot is by default drawn for the points in the two columns. Seborn has nifty function called `jointplot()`, which is dedicated for this type of plot. \n",
        "\n",
        "\n",
        "## Loading libraries\n",
        "\n",
        "Though most people are familiar with plotting using matplot, as it inherited most of the functions from MatLab. Python has an extremely nady library for data visualiztion called seaborn. The Seaborn library is based on the Matplotlib library. Therefore, you will also need to import the Matplotlib library.\n"
      ],
      "id": "d484631a"
    },
    {
      "cell_type": "code",
      "metadata": {},
      "source": [
        "import matplotlib.pyplot as plt\n",
        "import seaborn as sns\n",
        "import pandas as pd\n",
        "import numpy as np\n",
        "\n",
        "sns.set_theme()"
      ],
      "id": "08358757",
      "execution_count": null,
      "outputs": []
    },
    {
      "cell_type": "markdown",
      "metadata": {},
      "source": [
        "## Dataset\n",
        "\n",
        "We are going to use a penguin dataset from palmerpenguins package [@horst2022palmer]. We do not need to download this dataset as it comes with the seaborn package. We only need to load it from the package into our session using `sns.load_dataset` function and specify the `penguins` as the name of the dataset and assign it as df;\n"
      ],
      "id": "4c756ee7"
    },
    {
      "cell_type": "code",
      "metadata": {},
      "source": [
        "df = sns.load_dataset(\"penguins\")\n",
        "df.head()"
      ],
      "id": "85754ad3",
      "execution_count": null,
      "outputs": []
    },
    {
      "cell_type": "markdown",
      "metadata": {},
      "source": [
        "A printed `df` dataset shows that is made up of various measurements of three different penguin species --- Adelie, Gentoo, and Chinstrap. The dataset contains seven variables -- species, island, bill_length_mm, bill_depth_mm, flipper_length_mm, body_mass_g, sex, and year.\n",
        "\n",
        "\n",
        "The joint plot is used to plot the histogram distribution of two columns, one on the x-axis and the other on the y-axis. A scatter plot is by default drawn for the points in the two columns. To plot a joint plot, you need to call the `jointplot()` function. The following script plots a joint plot for `bill_length_mm` and `bill_depth_mm` columns of the df dataset.\n"
      ],
      "id": "ce2832b2"
    },
    {
      "cell_type": "code",
      "metadata": {},
      "source": [
        "fig = plt.figure()\n",
        "sns.jointplot(data=df, x=\"bill_length_mm\", y=\"bill_depth_mm\")\n",
        "plt.show()"
      ],
      "id": "b3a86784",
      "execution_count": null,
      "outputs": []
    },
    {
      "cell_type": "markdown",
      "metadata": {},
      "source": [
        "Assigning a hue variable will add conditional colors to the scatter plot and draw separate density curves (using `kdeplot()`) on the marginal axes. In this case we specify `hue = \"island\"`\n"
      ],
      "id": "eeb31d10"
    },
    {
      "cell_type": "code",
      "metadata": {},
      "source": [
        "fig = plt.figure()\n",
        "sns.jointplot(data=df, x=\"bill_length_mm\", y=\"bill_depth_mm\", hue = \"island\")\n",
        "plt.show()"
      ],
      "id": "83ae2040",
      "execution_count": null,
      "outputs": []
    },
    {
      "cell_type": "markdown",
      "metadata": {},
      "source": [
        "Several different approaches to plotting are available through the kind parameter. Setting kind=\"kde\" will draw both bivariate and univariate KDEs:\n"
      ],
      "id": "4f4592f0"
    },
    {
      "cell_type": "code",
      "metadata": {},
      "source": [
        "fig = plt.figure()\n",
        "sns.jointplot(data=df, x=\"bill_length_mm\", y=\"bill_depth_mm\", hue=\"species\", kind=\"kde\")\n",
        "plt.show()"
      ],
      "id": "959babc5",
      "execution_count": null,
      "outputs": []
    },
    {
      "cell_type": "markdown",
      "metadata": {},
      "source": [
        "Set `kind=\"reg\"` to add a linear regression fit (using `regplot()`) and univariate KDE curves:\n"
      ],
      "id": "f2f6261d"
    },
    {
      "cell_type": "code",
      "metadata": {},
      "source": [
        "fig = plt.figure()\n",
        "sns.jointplot(data=df, x=\"bill_length_mm\", y=\"bill_depth_mm\", kind=\"reg\")\n",
        "plt.show()"
      ],
      "id": "d2e4621d",
      "execution_count": null,
      "outputs": []
    },
    {
      "cell_type": "code",
      "metadata": {},
      "source": [
        "fig = plt.figure()\n",
        "sns.jointplot(data=df, x=\"bill_length_mm\", y=\"bill_depth_mm\", kind=\"hex\")\n",
        "plt.show()\n"
      ],
      "id": "2e34cba4",
      "execution_count": null,
      "outputs": []
    },
    {
      "cell_type": "markdown",
      "metadata": {},
      "source": [
        "## Cited Materials"
      ],
      "id": "88c2a9af"
    }
  ],
  "metadata": {
    "kernelspec": {
      "name": "python3",
      "language": "python",
      "display_name": "Python 3 (ipykernel)"
    }
  },
  "nbformat": 4,
  "nbformat_minor": 5
}